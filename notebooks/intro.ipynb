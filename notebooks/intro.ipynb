{
 "cells": [
  {
   "cell_type": "code",
   "execution_count": 42,
   "metadata": {},
   "outputs": [
    {
     "name": "stdout",
     "output_type": "stream",
     "text": [
      "Hello world! * Python 3\n"
     ]
    }
   ],
   "source": [
    "print('Hello world!',end=\" *\")\n",
    "\n",
    "print(' Python 3')"
   ]
  },
  {
   "cell_type": "code",
   "execution_count": 43,
   "metadata": {},
   "outputs": [
    {
     "name": "stdout",
     "output_type": "stream",
     "text": [
      "IT AMC TEC\n",
      "IT--AMC--TEC\n"
     ]
    }
   ],
   "source": [
    "print(\"IT\",\"AMC\",\"TEC\")\n",
    "print(\"IT\",\"AMC\",\"TEC\", sep='--')"
   ]
  },
  {
   "cell_type": "code",
   "execution_count": 44,
   "metadata": {},
   "outputs": [
    {
     "name": "stdout",
     "output_type": "stream",
     "text": [
      "Python-Java-PHP!\n",
      "IT/AMC/TEC!"
     ]
    }
   ],
   "source": [
    "print('Python','Java','PHP',sep='-',end='!\\n')\n",
    "print(\"IT\",\"AMC\",\"TEC\",sep='/',end='!')"
   ]
  },
  {
   "cell_type": "code",
   "execution_count": 45,
   "metadata": {},
   "outputs": [
    {
     "name": "stdout",
     "output_type": "stream",
     "text": [
      "aa\n",
      "***/***\n",
      "*---"
     ]
    }
   ],
   "source": [
    "print('a'*2)\n",
    "print('*'*3,end='/')\n",
    "print('*'*3,end='\\n')\n",
    "print('*',end='-'*3)"
   ]
  },
  {
   "cell_type": "markdown",
   "metadata": {},
   "source": []
  }
 ],
 "metadata": {
  "kernelspec": {
   "display_name": "Python 3",
   "language": "python",
   "name": "python3"
  },
  "language_info": {
   "codemirror_mode": {
    "name": "ipython",
    "version": 3
   },
   "file_extension": ".py",
   "mimetype": "text/x-python",
   "name": "python",
   "nbconvert_exporter": "python",
   "pygments_lexer": "ipython3",
   "version": "3.10.13"
  }
 },
 "nbformat": 4,
 "nbformat_minor": 2
}
